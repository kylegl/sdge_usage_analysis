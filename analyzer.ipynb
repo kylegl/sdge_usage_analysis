{
 "cells": [
  {
   "cell_type": "code",
   "execution_count": 737,
   "metadata": {},
   "outputs": [],
   "source": [
    "from constants import price_models\n",
    "from standard_pricing_model import get_standard_cost\n",
    "from timing_pricing_model import get_timing_price_model_cost\n",
    "from utils import (\n",
    "    load_data,\n",
    "    get_tier\n",
    ")\n",
    "import pandas as pd\n",
    "import matplotlib.pyplot as plt"
   ]
  },
  {
   "cell_type": "code",
   "execution_count": 738,
   "metadata": {},
   "outputs": [],
   "source": [
    "def get_pricing_category(time, price_model):\n",
    "    if not 'time_ranges' in price_model:\n",
    "        return 'default'\n",
    "\n",
    "    for category, time_ranges in price_model['time_ranges'].items():\n",
    "\n",
    "        for range in time_ranges:\n",
    "            start, end = range\n",
    "\n",
    "            if time.hour >= start and time.hour < end:\n",
    "                return category"
   ]
  },
  {
   "cell_type": "code",
   "execution_count": 739,
   "metadata": {},
   "outputs": [],
   "source": [
    "def get_rate(row, price_model):\n",
    "    return price_model['rate'][row['tier']][row['rate_category']]"
   ]
  },
  {
   "cell_type": "code",
   "execution_count": 740,
   "metadata": {},
   "outputs": [],
   "source": [
    "def get_month_cost(month_group, price_model):\n",
    "    month_group['cumulative_kwh'] = month_group['Consumption'].cumsum()\n",
    "    month_group['tier'] = month_group['cumulative_kwh'].apply(get_tier)\n",
    "    month_group['pricing_category'] = month_group['Start Time'].apply(lambda x: get_pricing_category(x, price_model))\n",
    "    month_group['rate'] = month_group.apply(lambda row: get_rate(row, price_model), axis=1)\n",
    "    month_group['daily_cost'] = month_group['rate'] * month_group['Consumption']\n",
    "\n",
    "\n",
    "    return month_group['daily_cost'].sum()\n"
   ]
  },
  {
   "cell_type": "code",
   "execution_count": 741,
   "metadata": {},
   "outputs": [],
   "source": [
    "from nis import cat\n",
    "\n",
    "\n",
    "def main():\n",
    "    df = pd.read_csv('data.csv', skiprows=13, parse_dates=['Date', 'Start Time'])\n",
    "\n",
    "    \n",
    "    df['monthly_consumption'] = df['Consumption'].groupby(df.Date.dt.month).cumsum()\n",
    "    df['tier'] = df['monthly_consumption'].apply(get_tier)\n",
    "    \n",
    "    price_model_names = []\n",
    "\n",
    "    for price_model in price_models:\n",
    "      price_model_name = price_model['name']\n",
    "\n",
    "      price_model_names.append(price_model_name)\n",
    "\n",
    "      df['rate_category'] = df.apply(lambda row: \n",
    "        get_pricing_category(row['Start Time'], price_model), \n",
    "        axis=1)\n",
    "\n",
    "      df['rate'] = df.apply(lambda row:\n",
    "        price_model['rate'][row['tier']][row['rate_category']],\n",
    "        axis=1)\n",
    "\n",
    "      df[f'{price_model_name}_daily_cost'] = df['Consumption'] * df['rate']\n",
    "      df[f'{price_model_name}_mean_cost'] = df['Consumption'] * df['rate']\n",
    "\n",
    "    \n",
    "    fig, axs = plt.subplots()\n",
    "\n",
    "    category_names = [f'{name}_daily_cost' for name in price_model_names]\n",
    "\n",
    "    axs = df[['Date', *category_names]].groupby(df.Date.dt.month).sum().plot(kind='bar', linewidth=1, figsize=(8,5), width=.75, ax=axs)\n",
    "\n",
    "    axs.set_ylabel('Cost $')\n",
    "    axs.set_xlabel('Month')\n",
    "    plt.legend([*price_model_names], title='Pricing Models')\n",
    "    plt.title('Monthly Cost Comparison')\n",
    "\n",
    "    # itd be cool to get average kwh per price model\n",
    "      \n",
    "\n",
    "\n",
    "  "
   ]
  },
  {
   "cell_type": "code",
   "execution_count": 742,
   "metadata": {},
   "outputs": [
    {
     "name": "stdout",
     "output_type": "stream",
     "text": [
      "      2021  2022  Consumption  standard_daily_cost  tou_dr1_daily_cost  \\\n",
      "Date                                                                     \n",
      "2021   NaN   NaN          NaN                  NaN                 NaN   \n",
      "2022   NaN   NaN          NaN                  NaN                 NaN   \n",
      "\n",
      "      tou_dr2_daily_cost  \n",
      "Date                      \n",
      "2021                 NaN  \n",
      "2022                 NaN  \n"
     ]
    },
    {
     "data": {
      "image/png": "[encoded data removed]",
      "text/plain": [
       "<Figure size 800x500 with 1 Axes>"
      ]
     },
     "metadata": {},
     "output_type": "display_data"
    }
   ],
   "source": [
    "main()"
   ]
  }
 ],
 "metadata": {
  "kernelspec": {
   "display_name": "Python 3.8.10 ('.venv': venv)",
   "language": "python",
   "name": "python3"
  },
  "language_info": {
   "codemirror_mode": {
    "name": "ipython",
    "version": 3
   },
   "file_extension": ".py",
   "mimetype": "text/x-python",
   "name": "python",
   "nbconvert_exporter": "python",
   "pygments_lexer": "ipython3",
   "version": "3.8.10"
  },
  "orig_nbformat": 4,
  "vscode": {
   "interpreter": {
    "hash": "76cac9720223f2c5cb91c75f44a5b8b624243527c15c345c6844dc315b8af2c9"
   }
  }
 },
 "nbformat": 4,
 "nbformat_minor": 2
}
