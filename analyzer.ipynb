{
 "cells": [
  {
   "cell_type": "code",
   "execution_count": 329,
   "metadata": {},
   "outputs": [],
   "source": [
    "from constants import price_models\n",
    "from standard_pricing_model import get_standard_cost\n",
    "from timing_pricing_model import get_timing_price_model_cost\n",
    "from utils import (\n",
    "    load_data,\n",
    "    get_tier\n",
    ")\n",
    "import pandas as pd\n",
    "import matplotlib.pyplot as plt"
   ]
  },
  {
   "cell_type": "code",
   "execution_count": 330,
   "metadata": {},
   "outputs": [],
   "source": [
    "def get_pricing_category(time, price_model):\n",
    "    if not 'time_ranges' in price_model:\n",
    "        return 'default'\n",
    "\n",
    "    for category, time_ranges in price_model['time_ranges'].items():\n",
    "\n",
    "        for range in time_ranges:\n",
    "            start, end = range\n",
    "\n",
    "            if time.hour >= start and time.hour < end:\n",
    "                return category"
   ]
  },
  {
   "cell_type": "code",
   "execution_count": 331,
   "metadata": {},
   "outputs": [],
   "source": [
    "def get_rate(row, price_model):\n",
    "    return price_model['rate'][row['tier']][row['rate_category']]"
   ]
  },
  {
   "cell_type": "code",
   "execution_count": 332,
   "metadata": {},
   "outputs": [],
   "source": [
    "def get_month_cost(month_group, price_model):\n",
    "    month_group['cumulative_kwh'] = month_group['Consumption'].cumsum()\n",
    "    month_group['tier'] = month_group['cumulative_kwh'].apply(get_tier)\n",
    "    month_group['pricing_category'] = month_group['Start Time'].apply(lambda x: get_pricing_category(x, price_model))\n",
    "    month_group['rate'] = month_group.apply(lambda row: get_rate(row, price_model), axis=1)\n",
    "    month_group['daily_cost'] = month_group['rate'] * month_group['Consumption']\n",
    "\n",
    "\n",
    "    return month_group['daily_cost'].sum()\n"
   ]
  },
  {
   "cell_type": "code",
   "execution_count": 333,
   "metadata": {},
   "outputs": [],
   "source": [
    "def main():\n",
    "    df = pd.read_csv('data.csv', skiprows=13, parse_dates=['Date', 'Start Time'])\n",
    "\n",
    "    \n",
    "    df['monthly_consumption'] = df['Consumption'].groupby(df.Date.dt.month).cumsum()\n",
    "    df['tier'] = df['monthly_consumption'].apply(get_tier)\n",
    "    \n",
    "    price_model_groups = []\n",
    "\n",
    "    for price_model in price_models:\n",
    "      price_model_name = price_model['name']\n",
    "      price_model_groups.append(f'{price_model_name}_daily_cost')\n",
    "      df[f'{price_model[\"name\"]}_rate_category'] = df.apply(lambda row: \n",
    "        get_pricing_category(row['Start Time'], price_model), \n",
    "        axis=1)\n",
    "\n",
    "      df[f'{price_model[\"name\"]}_rate'] = df.apply(lambda row:\n",
    "        price_model['rate'][row['tier']][row[f'{price_model[\"name\"]}_rate_category']],\n",
    "        axis=1)\n",
    "\n",
    "      df[f'{price_model[\"name\"]}_daily_cost'] = df['Consumption'] * df[f'{price_model[\"name\"]}_rate']\n",
    "\n",
    "     # make one column with a tuple for each price model total\n",
    "\n",
    "    month_group = df.groupby(df.Date.dt.month)\n",
    "    \n",
    "\n",
    "    for price_model in price_models:\n",
    "      price_model_groups.append(f'')\n",
    "    month_group = df.groupby(df.Date.dt.month)\n",
    "    fig, axes = plt.subplots(111)\n",
    "\n",
    "    for name, group in month_group:\n",
    "      i = 0\n",
    "      ax = axes.flat[i]\n",
    "\n",
    "      for model in price_models:\n",
    "        group[f'{model[\"name\"]}_daily_cost'].sum().plot.bar(x='Date', y=f'{model[\"name\"]}_daily_cost', ax=ax)\n",
    "      \n",
    "      i += 1\n",
    "\n",
    "    # print(month_group)\n",
    "\n",
    "    # for month in month_group['Date'].unique():\n",
    "    #   month_group[month_group['Date'] == month]['standard_daily_cost'].plot(x='Date', y='standard_daily_cost')\n",
    "\n",
    "\n",
    "    # for month, month_group in df.groupby(df.Date.dt.month):\n",
    "    #     for price_model in pricing_models:\n",
    "    #         cost = get_month_cost(month_group, price_model)\n",
    "\n",
    "    #         print(f\"{price_model['name']} cost: {cost}\")\n",
    "\n",
    "    \n",
    "\n",
    "\n",
    "      \n",
    "\n",
    "\n",
    "  "
   ]
  },
  {
   "cell_type": "code",
   "execution_count": 334,
   "metadata": {},
   "outputs": [
    {
     "ename": "AttributeError",
     "evalue": "'numpy.float64' object has no attribute 'plot'",
     "output_type": "error",
     "traceback": [
      "\u001b[0;31m---------------------------------------------------------------------------\u001b[0m",
      "\u001b[0;31mAttributeError\u001b[0m                            Traceback (most recent call last)",
      "Cell \u001b[0;32mIn [334], line 1\u001b[0m\n\u001b[0;32m----> 1\u001b[0m \u001b[43mmain\u001b[49m\u001b[43m(\u001b[49m\u001b[43m)\u001b[49m\n",
      "Cell \u001b[0;32mIn [333], line 31\u001b[0m, in \u001b[0;36mmain\u001b[0;34m()\u001b[0m\n\u001b[1;32m     28\u001b[0m ax \u001b[38;5;241m=\u001b[39m axes\u001b[38;5;241m.\u001b[39mflat[i]\n\u001b[1;32m     30\u001b[0m \u001b[38;5;28;01mfor\u001b[39;00m model \u001b[38;5;129;01min\u001b[39;00m price_models:\n\u001b[0;32m---> 31\u001b[0m   \u001b[43mgroup\u001b[49m\u001b[43m[\u001b[49m\u001b[38;5;124;43mf\u001b[39;49m\u001b[38;5;124;43m'\u001b[39;49m\u001b[38;5;132;43;01m{\u001b[39;49;00m\u001b[43mmodel\u001b[49m\u001b[43m[\u001b[49m\u001b[38;5;124;43m\"\u001b[39;49m\u001b[38;5;124;43mname\u001b[39;49m\u001b[38;5;124;43m\"\u001b[39;49m\u001b[43m]\u001b[49m\u001b[38;5;132;43;01m}\u001b[39;49;00m\u001b[38;5;124;43m_daily_cost\u001b[39;49m\u001b[38;5;124;43m'\u001b[39;49m\u001b[43m]\u001b[49m\u001b[38;5;241;43m.\u001b[39;49m\u001b[43msum\u001b[49m\u001b[43m(\u001b[49m\u001b[43m)\u001b[49m\u001b[38;5;241;43m.\u001b[39;49m\u001b[43mplot\u001b[49m\u001b[38;5;241m.\u001b[39mbar(x\u001b[38;5;241m=\u001b[39m\u001b[38;5;124m'\u001b[39m\u001b[38;5;124mDate\u001b[39m\u001b[38;5;124m'\u001b[39m, y\u001b[38;5;241m=\u001b[39m\u001b[38;5;124mf\u001b[39m\u001b[38;5;124m'\u001b[39m\u001b[38;5;132;01m{\u001b[39;00mmodel[\u001b[38;5;124m\"\u001b[39m\u001b[38;5;124mname\u001b[39m\u001b[38;5;124m\"\u001b[39m]\u001b[38;5;132;01m}\u001b[39;00m\u001b[38;5;124m_daily_cost\u001b[39m\u001b[38;5;124m'\u001b[39m, ax\u001b[38;5;241m=\u001b[39max)\n\u001b[1;32m     33\u001b[0m i \u001b[38;5;241m+\u001b[39m\u001b[38;5;241m=\u001b[39m \u001b[38;5;241m1\u001b[39m\n",
      "\u001b[0;31mAttributeError\u001b[0m: 'numpy.float64' object has no attribute 'plot'"
     ]
    },
    {
     "data": {
      "image/png": "[encoded data removed]",
      "text/plain": [
       "<Figure size 640x480 with 111 Axes>"
      ]
     },
     "metadata": {},
     "output_type": "display_data"
    }
   ],
   "source": [
    "main()"
   ]
  }
 ],
 "metadata": {
  "kernelspec": {
   "display_name": "Python 3.8.10 ('.venv': venv)",
   "language": "python",
   "name": "python3"
  },
  "language_info": {
   "codemirror_mode": {
    "name": "ipython",
    "version": 3
   },
   "file_extension": ".py",
   "mimetype": "text/x-python",
   "name": "python",
   "nbconvert_exporter": "python",
   "pygments_lexer": "ipython3",
   "version": "3.8.10"
  },
  "orig_nbformat": 4,
  "vscode": {
   "interpreter": {
    "hash": "76cac9720223f2c5cb91c75f44a5b8b624243527c15c345c6844dc315b8af2c9"
   }
  }
 },
 "nbformat": 4,
 "nbformat_minor": 2
}
